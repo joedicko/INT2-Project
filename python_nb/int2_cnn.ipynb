{
  "nbformat": 4,
  "nbformat_minor": 0,
  "metadata": {
    "colab": {
      "name": "int2_cnn.ipynb",
      "provenance": []
    },
    "kernelspec": {
      "name": "python3",
      "display_name": "Python 3"
    },
    "language_info": {
      "name": "python"
    },
    "accelerator": "GPU"
  },
  "cells": [
    {
      "cell_type": "code",
      "execution_count": 53,
      "metadata": {
        "id": "ylNZvAqG1NhJ",
        "colab": {
          "base_uri": "https://localhost:8080/"
        },
        "outputId": "6f3a9f32-c51b-48e2-88e9-c4cc4449a880"
      },
      "outputs": [
        {
          "output_type": "stream",
          "name": "stdout",
          "text": [
            "Requirement already satisfied: torchinfo in /usr/local/lib/python3.7/dist-packages (1.6.5)\n"
          ]
        }
      ],
      "source": [
        "import numpy as np\n",
        "import matplotlib.pyplot as plt\n",
        "import torch\n",
        "from torch.utils.data import Dataset\n",
        "from torch.utils.data import DataLoader\n",
        "import torch.nn.functional as F\n",
        "from torchvision import datasets\n",
        "from torchvision.transforms import ToTensor, Lambda, ToPILImage\n",
        "\n",
        "!pip install torchinfo\n"
      ]
    },
    {
      "cell_type": "code",
      "source": [
        "# Loads CIFAR10 into training_data\n",
        "# Filepath = root, training indicator true, downloads if not available\n",
        "# Option to transform to 3d tensors\n",
        "training_data = datasets.CIFAR10(\n",
        "    root = \".data\",\n",
        "    train = True,\n",
        "    download = True,\n",
        "    transform = ToTensor(),\n",
        "    #target_transform = Lambda(lambda y: torch.zeros(10, dtype=torch.float).scatter_(0, torch.tensor(y), value=1))\n",
        ")\n",
        "\n",
        "\n",
        "# Loads CIFAR10 into testing_data\n",
        "# Filepath = root, training indicator false, downloads if not available\n",
        "# Option to transform to 3d tensors\n",
        "testing_data = datasets.CIFAR10(\n",
        "    root = \".data\",\n",
        "    train = False,\n",
        "    download = True,\n",
        "    transform = ToTensor(),\n",
        "    #target_transform = Lambda(lambda y: torch.zeros(10, dtype=torch.float).scatter_(0, torch.tensor(y), value=1))\n",
        ")"
      ],
      "metadata": {
        "colab": {
          "base_uri": "https://localhost:8080/"
        },
        "id": "jHowbeW61Uaz",
        "outputId": "5b0e16d2-f9d4-45bd-ecd6-61cf7ad3c1c3"
      },
      "execution_count": 54,
      "outputs": [
        {
          "output_type": "stream",
          "name": "stdout",
          "text": [
            "Files already downloaded and verified\n",
            "Files already downloaded and verified\n"
          ]
        }
      ]
    },
    {
      "cell_type": "code",
      "source": [
        "# check if CUDA is available\n",
        "train_on_gpu = torch.cuda.is_available()\n",
        "\n",
        "if not train_on_gpu:\n",
        "    print('CUDA is not available.  Training on CPU ...')\n",
        "else:\n",
        "    print('CUDA is available!  Training on GPU ...')"
      ],
      "metadata": {
        "colab": {
          "base_uri": "https://localhost:8080/"
        },
        "id": "6D0NnqTlURI5",
        "outputId": "6818e902-5693-4d2d-d3aa-79e2aadfce2f"
      },
      "execution_count": 55,
      "outputs": [
        {
          "output_type": "stream",
          "name": "stdout",
          "text": [
            "CUDA is available!  Training on GPU ...\n"
          ]
        }
      ]
    },
    {
      "cell_type": "code",
      "source": [
        "# Provides a dictionary for mapping label id to label text\n",
        "labels_map = (\n",
        "    \"airplane\",\n",
        "    \"automobile\",\n",
        "    \"bird\",\n",
        "    \"cat\",\n",
        "    \"deer\",\n",
        "    \"dog\",\n",
        "    \"frog\",\n",
        "    \"horse\",\n",
        "    \"ship\",\n",
        "    \"truck\"\n",
        ")"
      ],
      "metadata": {
        "id": "Q_L8eIHM1Z8N"
      },
      "execution_count": 56,
      "outputs": []
    },
    {
      "cell_type": "code",
      "source": [
        "# Function to display training data\n",
        "def display_training(size):\n",
        "    figure = plt.figure(figsize=(8,8))\n",
        "    cols, rows = size, size\n",
        "    for i in range(1, cols * rows + 1):\n",
        "        random_index = np.random.randint(len(training_data))\n",
        "        img, label = training_data[random_index]\n",
        "        plt.subplot(rows, cols, i)\n",
        "        plt.xticks([])\n",
        "        plt.yticks([])\n",
        "        plt.imshow(img, cmap=plt.cm.binary)\n",
        "        plt.xlabel(labels_map[label])\n",
        "    plt.show()\n",
        "#display_training(4)"
      ],
      "metadata": {
        "id": "So79f67s1c4n"
      },
      "execution_count": 57,
      "outputs": []
    },
    {
      "cell_type": "code",
      "source": [
        "# Loads data sets into DataLoader for batch processing\n",
        "train_dataloader = DataLoader(training_data, batch_size=4, shuffle=True, num_workers = 2)\n",
        "test_dataloader = DataLoader(testing_data, batch_size=4, shuffle=True, num_workers = 2)"
      ],
      "metadata": {
        "id": "RX75I7iZ1hQ0"
      },
      "execution_count": 58,
      "outputs": []
    },
    {
      "cell_type": "code",
      "source": [
        "# Iterating through DataLoader\n",
        "train_features, train_labels = next(iter(train_dataloader))\n",
        "print(f\"Feature batch shape: {train_features.size()}\")\n",
        "print(f\"Labels batch shape: {train_labels.size()}\")\n",
        "img = train_features[0]\n",
        "label = train_labels[0]\n",
        "plt.imshow(ToPILImage()(img), cmap=\"gray\")\n",
        "plt.xticks([])\n",
        "plt.yticks([])\n",
        "print(f\"Label: {labels_map[train_labels[0]]}\")\n",
        "plt.show()"
      ],
      "metadata": {
        "colab": {
          "base_uri": "https://localhost:8080/",
          "height": 304
        },
        "id": "FIwNA0Dg1jI3",
        "outputId": "3c2868ad-8ec0-49a1-f950-75ff887fdc82"
      },
      "execution_count": 59,
      "outputs": [
        {
          "output_type": "stream",
          "name": "stdout",
          "text": [
            "Feature batch shape: torch.Size([4, 3, 32, 32])\n",
            "Labels batch shape: torch.Size([4])\n",
            "Label: airplane\n"
          ]
        },
        {
          "output_type": "display_data",
          "data": {
            "text/plain": [
              "<Figure size 432x288 with 1 Axes>"
            ],
            "image/png": "[encoded data removed]"
          },
          "metadata": {}
        }
      ]
    },
    {
      "cell_type": "code",
      "source": [
        "#Set up CNN\n",
        "import torch.nn as nn\n",
        "import torch.nn.functional as F\n",
        "\n",
        "class Net(nn.Module):\n",
        "    def __init__(self):\n",
        "        super().__init__()\n",
        "        self.conv1 = nn.Conv2d(3, 16, 3, padding=1)\n",
        "        self.pool = nn.MaxPool2d(2, 2)\n",
        "        self.conv2 = nn.Conv2d(16, 32, 3, padding=1)\n",
        "        self.conv3 = nn.Conv2d(32, 64, 3, padding=1)\n",
        "        self.conv4 = nn.Conv2d(64, 128, 3, padding=1)\n",
        "        self.fc1 = nn.Linear(128 * 2 * 2, 512)\n",
        "        self.fc2 = nn.Linear(512, 128)\n",
        "        self.fc3 = nn.Linear(128, 64)\n",
        "        self.fc4 = nn.Linear(64, 10)\n",
        "\n",
        "    def forward(self, x):\n",
        "        x = self.pool(F.relu(self.conv1(x)))\n",
        "        x = self.pool(F.relu(self.conv2(x)))\n",
        "        x = self.pool(F.relu(self.conv3(x)))\n",
        "        x = self.pool(F.relu(self.conv4(x)))\n",
        "        x = torch.flatten(x, 1) # flatten all dimensions except batch\n",
        "        x = F.relu(self.fc1(x))\n",
        "        x = F.relu(self.fc2(x))\n",
        "        x = F.relu(self.fc3(x))\n",
        "        x = self.fc4(x)\n",
        "        return x\n",
        "\n",
        "net = Net()\n",
        "\n",
        "if train_on_gpu:\n",
        "    net.cuda()\n"
      ],
      "metadata": {
        "id": "XKtUerkjHmvX"
      },
      "execution_count": 60,
      "outputs": []
    },
    {
      "cell_type": "code",
      "source": [
        "import torch.optim as optim\n",
        "\n",
        "criterion = nn.CrossEntropyLoss()\n",
        "optimizer = optim.SGD(net.parameters(), lr=0.001, momentum=0.9)"
      ],
      "metadata": {
        "id": "d89tV3HKI1BY"
      },
      "execution_count": 61,
      "outputs": []
    },
    {
      "cell_type": "code",
      "source": [
        "from torchinfo import summary\n",
        "\n",
        "batch_size = 4\n",
        "summary(net, input_size=(batch_size, 3, 32, 32))"
      ],
      "metadata": {
        "colab": {
          "base_uri": "https://localhost:8080/"
        },
        "id": "SDalx-Heuh7m",
        "outputId": "b0f4d562-9012-42b0-f302-2e51895313a8"
      },
      "execution_count": 62,
      "outputs": [
        {
          "output_type": "execute_result",
          "data": {
            "text/plain": [
              "==========================================================================================\n",
              "Layer (type:depth-idx)                   Output Shape              Param #\n",
              "==========================================================================================\n",
              "Net                                      --                        --\n",
              "├─Conv2d: 1-1                            [4, 16, 32, 32]           448\n",
              "├─MaxPool2d: 1-2                         [4, 16, 16, 16]           --\n",
              "├─Conv2d: 1-3                            [4, 32, 16, 16]           4,640\n",
              "├─MaxPool2d: 1-4                         [4, 32, 8, 8]             --\n",
              "├─Conv2d: 1-5                            [4, 64, 8, 8]             18,496\n",
              "├─MaxPool2d: 1-6                         [4, 64, 4, 4]             --\n",
              "├─Conv2d: 1-7                            [4, 128, 4, 4]            73,856\n",
              "├─MaxPool2d: 1-8                         [4, 128, 2, 2]            --\n",
              "├─Linear: 1-9                            [4, 512]                  262,656\n",
              "├─Linear: 1-10                           [4, 128]                  65,664\n",
              "├─Linear: 1-11                           [4, 64]                   8,256\n",
              "├─Linear: 1-12                           [4, 10]                   650\n",
              "==========================================================================================\n",
              "Total params: 434,666\n",
              "Trainable params: 434,666\n",
              "Non-trainable params: 0\n",
              "Total mult-adds (M): 17.40\n",
              "==========================================================================================\n",
              "Input size (MB): 0.05\n",
              "Forward/backward pass size (MB): 1.01\n",
              "Params size (MB): 1.74\n",
              "Estimated Total Size (MB): 2.79\n",
              "=========================================================================================="
            ]
          },
          "metadata": {},
          "execution_count": 62
        }
      ]
    },
    {
      "cell_type": "code",
      "source": [
        "# code based on https://shonit2096.medium.com/cnn-on-cifar10-data-set-using-pytorch-34be87e09844\n",
        "\n",
        "from typing import NewType\n",
        "# number of epochs to train the model\n",
        "n_epochs = 15\n",
        "#List to store loss to visualize\n",
        "train_losslist = []\n",
        "test_losslist = []\n",
        "test_loss_min = np.Inf # track change in validation loss\n",
        "\n",
        "for epoch in range(1, n_epochs+1):\n",
        "\n",
        "    # keep track of training and validation loss\n",
        "    train_loss = 0.0\n",
        "    test_loss = 0.0\n",
        "    \n",
        "    ###################\n",
        "    # train the model #\n",
        "    ###################\n",
        "    net.train()\n",
        "    for i, data in enumerate(train_dataloader, 0):\n",
        "        inputs, labels = data\n",
        "        if train_on_gpu:\n",
        "            inputs, labels = inputs.cuda(), labels.cuda()\n",
        "        optimizer.zero_grad()\n",
        "        output = net(inputs)\n",
        "        loss = criterion(output, labels)\n",
        "        loss.backward()\n",
        "        optimizer.step()\n",
        "        # update training loss\n",
        "        train_loss += loss.item()*inputs.size(0)\n",
        "        #if i % 2000 == 1999:    # print every 2000 mini-batches\n",
        "        #    print(f'Training - [{epoch + 1}, {i + 1:5d}] loss: {train_loss / 2000:.3f}')\n",
        "\n",
        "        \n",
        "    ######################    \n",
        "    # validate the model #\n",
        "    ######################\n",
        "    net.eval()\n",
        "    for i, data in enumerate(test_dataloader, 0):\n",
        "        inputs, labels = data\n",
        "        if train_on_gpu:\n",
        "            inputs, labels = inputs.cuda(), labels.cuda()\n",
        "        output = net(inputs)\n",
        "        loss = criterion(output, labels)\n",
        "        # update average test loss \n",
        "        test_loss += loss.item()*inputs.size(0)\n",
        "        #if i % 2000 == 1999:    # print every 2000 mini-batches\n",
        "        #    print(f'Testing - [{epoch + 1}, {i + 1:5d}] loss: {train_loss / 2000:.3f}')\n",
        "    \n",
        "    # calculate average loss\n",
        "    train_loss = train_loss/len(train_dataloader.dataset)\n",
        "    test_loss = test_loss/len(test_dataloader.dataset)\n",
        "    # put loss in list, to be shown in graph\n",
        "    train_losslist.append(train_loss)\n",
        "    test_losslist.append(test_loss)\n",
        "        \n",
        "    # print training/validation statistics \n",
        "    print('Epoch: {} \\tTraining Loss: {:.6f} \\tTest Loss: {:.6f}'.format(\n",
        "        epoch, train_loss, test_loss))\n",
        "    \n",
        "    # save model if validation loss has decreased\n",
        "    if test_loss <= test_loss_min:\n",
        "        print('New best model found ({:.6f} --> {:.6f}), saving'.format(\n",
        "        test_loss_min,\n",
        "        test_loss))\n",
        "        torch.save(net.state_dict(), 'model_cifar.pt')\n",
        "        test_loss_min = test_loss\n"
      ],
      "metadata": {
        "colab": {
          "base_uri": "https://localhost:8080/"
        },
        "id": "V3mVakW4JFOU",
        "outputId": "e0373ac2-2269-4f11-cf59-94e277f0a991"
      },
      "execution_count": 63,
      "outputs": [
        {
          "output_type": "stream",
          "name": "stdout",
          "text": [
            "Epoch: 1 \tTraining Loss: 2.294055 \tTest Loss: 2.096365\n",
            "New best model found (inf --> 2.096365), saving\n",
            "Epoch: 2 \tTraining Loss: 1.882055 \tTest Loss: 1.644619\n",
            "New best model found (2.096365 --> 1.644619), saving\n",
            "Epoch: 3 \tTraining Loss: 1.455700 \tTest Loss: 1.276026\n",
            "New best model found (1.644619 --> 1.276026), saving\n",
            "Epoch: 4 \tTraining Loss: 1.196352 \tTest Loss: 1.117441\n",
            "New best model found (1.276026 --> 1.117441), saving\n",
            "Epoch: 5 \tTraining Loss: 1.021892 \tTest Loss: 1.023502\n",
            "New best model found (1.117441 --> 1.023502), saving\n",
            "Epoch: 6 \tTraining Loss: 0.893674 \tTest Loss: 0.909709\n",
            "New best model found (1.023502 --> 0.909709), saving\n",
            "Epoch: 7 \tTraining Loss: 0.791521 \tTest Loss: 0.974686\n",
            "Epoch: 8 \tTraining Loss: 0.706570 \tTest Loss: 0.861101\n",
            "New best model found (0.909709 --> 0.861101), saving\n",
            "Epoch: 9 \tTraining Loss: 0.639695 \tTest Loss: 0.837762\n",
            "New best model found (0.861101 --> 0.837762), saving\n",
            "Epoch: 10 \tTraining Loss: 0.574160 \tTest Loss: 0.829092\n",
            "New best model found (0.837762 --> 0.829092), saving\n",
            "Epoch: 11 \tTraining Loss: 0.517261 \tTest Loss: 0.889746\n",
            "Epoch: 12 \tTraining Loss: 0.472048 \tTest Loss: 0.860926\n",
            "Epoch: 13 \tTraining Loss: 0.427627 \tTest Loss: 0.935494\n",
            "Epoch: 14 \tTraining Loss: 0.384487 \tTest Loss: 0.958278\n",
            "Epoch: 15 \tTraining Loss: 0.353476 \tTest Loss: 0.990239\n"
          ]
        }
      ]
    },
    {
      "cell_type": "code",
      "source": [
        "plt.plot([*range(n_epochs)], train_losslist)\n",
        "plt.plot([*range(n_epochs)], test_losslist)\n",
        "plt.xlabel(\"Epoch\")\n",
        "plt.ylabel(\"Loss\")\n",
        "plt.title(\"Performance of Model 1\")\n",
        "plt.show()"
      ],
      "metadata": {
        "colab": {
          "base_uri": "https://localhost:8080/",
          "height": 295
        },
        "id": "e9UsOlPhgLFP",
        "outputId": "5a1b36d2-1319-4947-d8e6-fbe5c86dbab0"
      },
      "execution_count": 64,
      "outputs": [
        {
          "output_type": "display_data",
          "data": {
            "text/plain": [
              "<Figure size 432x288 with 1 Axes>"
            ],
            "image/png": "[encoded data removed]"
          },
          "metadata": {
            "needs_background": "light"
          }
        }
      ]
    },
    {
      "cell_type": "code",
      "source": [
        "#load best model state\n",
        "net.load_state_dict(torch.load('model_cifar.pt'))"
      ],
      "metadata": {
        "colab": {
          "base_uri": "https://localhost:8080/"
        },
        "id": "JayHmgKgfbSt",
        "outputId": "ff6deec9-dd58-4f9c-9b7f-a4c5021f59e2"
      },
      "execution_count": 65,
      "outputs": [
        {
          "output_type": "execute_result",
          "data": {
            "text/plain": [
              "<All keys matched successfully>"
            ]
          },
          "metadata": {},
          "execution_count": 65
        }
      ]
    },
    {
      "cell_type": "code",
      "source": [
        "# track test loss\n",
        "test_loss = 0.0\n",
        "class_correct = list(0. for i in range(10))\n",
        "class_total = list(0. for i in range(10))\n",
        "\n",
        "net.eval()\n",
        "# iterate over test data\n",
        "for data, target in test_dataloader:\n",
        "    # move tensors to GPU if CUDA is available\n",
        "    if train_on_gpu:\n",
        "        data, target = data.cuda(), target.cuda()\n",
        "    # forward pass: compute predicted outputs by passing inputs to the model\n",
        "    output = net(data)\n",
        "    # calculate the batch loss\n",
        "    loss = criterion(output, target)\n",
        "    # update test loss \n",
        "    test_loss += loss.item()*data.size(0)\n",
        "    # convert output probabilities to predicted class\n",
        "    _, pred = torch.max(output, 1)    \n",
        "    # compare predictions to true label\n",
        "    correct_tensor = pred.eq(target.data.view_as(pred))\n",
        "    correct = np.squeeze(correct_tensor.numpy()) if not train_on_gpu else np.squeeze(correct_tensor.cpu().numpy())\n",
        "    # calculate test accuracy for each object class\n",
        "    for i in range(4):\n",
        "        label = target.data[i]\n",
        "        class_correct[label] += correct[i].item()\n",
        "        class_total[label] += 1\n",
        "\n",
        "# average test loss\n",
        "test_loss = test_loss/len(test_dataloader.dataset)\n",
        "print('Test Loss: {:.6f}\\n'.format(test_loss))\n",
        "\n",
        "for i in range(10):\n",
        "    if class_total[i] > 0:\n",
        "        print('Test Accuracy of %5s: %2d%% (%2d/%2d)' % (\n",
        "            labels_map[i], 100 * class_correct[i] / class_total[i],\n",
        "            np.sum(class_correct[i]), np.sum(class_total[i])))\n",
        "    else:\n",
        "        print('Test Accuracy of %5s: N/A (no training examples)' % (labels_map[i]))\n",
        "\n",
        "print('\\nTest Accuracy (Overall): %2d%% (%2d/%2d)' % (\n",
        "    100. * np.sum(class_correct) / np.sum(class_total),\n",
        "    np.sum(class_correct), np.sum(class_total)))\n"
      ],
      "metadata": {
        "colab": {
          "base_uri": "https://localhost:8080/"
        },
        "id": "7TUDFraEMJwy",
        "outputId": "9f1108f6-5361-418b-c8ec-6cc74c235e26"
      },
      "execution_count": 66,
      "outputs": [
        {
          "output_type": "stream",
          "name": "stdout",
          "text": [
            "Test Loss: 0.829092\n",
            "\n",
            "Test Accuracy of airplane: 73% (736/1000)\n",
            "Test Accuracy of automobile: 83% (837/1000)\n",
            "Test Accuracy of  bird: 67% (675/1000)\n",
            "Test Accuracy of   cat: 49% (499/1000)\n",
            "Test Accuracy of  deer: 69% (692/1000)\n",
            "Test Accuracy of   dog: 57% (571/1000)\n",
            "Test Accuracy of  frog: 77% (778/1000)\n",
            "Test Accuracy of horse: 77% (779/1000)\n",
            "Test Accuracy of  ship: 85% (859/1000)\n",
            "Test Accuracy of truck: 84% (842/1000)\n",
            "\n",
            "Test Accuracy (Overall): 72% (7268/10000)\n"
          ]
        }
      ]
    }
  ]
}